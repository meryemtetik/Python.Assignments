{
 "cells": [
  {
   "cell_type": "markdown",
   "id": "8bdeaec0-34f1-40bf-a0e9-790f77bf5f34",
   "metadata": {},
   "source": [
    "Task : Print the prime numbers which are between 1 to entered limit number (n).\n",
    "\n",
    "You can use a nested for loop.\n",
    "Collect all these numbers into a list\n",
    "The desired output for n=100 :\n",
    "\n",
    "[2, 3, 5, 7, 11, 13, 17, 19, 23, 29, 31, 37, 41, 43, 47, 53, 59,\n",
    "61, 67, 71, 73, 79, 83, 89, 97]\n",
    "Note that : This question is famous on the web, so to get more benefit from this assignment, try to complete this task on your own."
   ]
  },
  {
   "cell_type": "code",
   "execution_count": 3,
   "id": "0b92951e-6e86-4721-9a4d-813643d07817",
   "metadata": {},
   "outputs": [
    {
     "name": "stdin",
     "output_type": "stream",
     "text": [
      " 7\n"
     ]
    },
    {
     "name": "stdout",
     "output_type": "stream",
     "text": [
      "7 is a prime number\n"
     ]
    }
   ],
   "source": [
    "n=int(input())\n",
    "\n",
    "if n!=0 and n>1:\n",
    "\n",
    "    for i in range(2,n):\n",
    "\n",
    "        if n%i==0:\n",
    "\n",
    "            print(f\"{n} is not a prime number\")\n",
    "\n",
    "        else:\n",
    "\n",
    "            print(f\"{n} is a prime number\")\n",
    "\n",
    "        break"
   ]
  },
  {
   "cell_type": "code",
   "execution_count": 13,
   "id": "d04f6aa2-79e6-407b-8d20-8c8967a33097",
   "metadata": {},
   "outputs": [
    {
     "name": "stdin",
     "output_type": "stream",
     "text": [
      " 29\n"
     ]
    },
    {
     "name": "stdout",
     "output_type": "stream",
     "text": [
      "[3, 5, 7, 9, 11, 13, 15, 17, 19, 21, 23, 25, 27] "
     ]
    }
   ],
   "source": [
    "n = int(input())\n",
    "liste = []\n",
    "if n != 0 and n > 1 :\n",
    "    for i in range(2, n+1):\n",
    "        for j in range(2, n+1):\n",
    "            if not j%i == 0:\n",
    "                liste.append(j)\n",
    "        break\n",
    "print(liste, end=\" \")\n",
    "            "
   ]
  },
  {
   "cell_type": "code",
   "execution_count": 12,
   "id": "e5e2a229-0bdf-424f-b6df-676e42d91afa",
   "metadata": {},
   "outputs": [
    {
     "name": "stdin",
     "output_type": "stream",
     "text": [
      "Enter a number please:  45\n"
     ]
    },
    {
     "name": "stdout",
     "output_type": "stream",
     "text": [
      "[2, 3, 5, 7, 11, 13, 17, 19, 23, 29, 31, 37, 41, 43]\n"
     ]
    }
   ],
   "source": [
    "num = int(input(\"Enter a number please: \"))\n",
    "liste = []\n",
    "for num in range(1,num+1):\n",
    "    if num > 1:\n",
    "        for i in range(2, num):\n",
    "            if (num % i) == 0:\n",
    "                break    \n",
    "        else:\n",
    "            liste.append(num)\n",
    "print(liste)"
   ]
  },
  {
   "cell_type": "code",
   "execution_count": 13,
   "id": "728dab0a-ca4e-41b0-8a63-290deaa624a2",
   "metadata": {},
   "outputs": [
    {
     "name": "stdout",
     "output_type": "stream",
     "text": [
      "10\n"
     ]
    }
   ],
   "source": [
    "x = 10\n",
    "def my_function_1(): \n",
    "    x = 20 \n",
    "    print(x)\n",
    "    \n",
    "print(x)"
   ]
  },
  {
   "cell_type": "code",
   "execution_count": 32,
   "id": "915a6a99-f2a0-4ed9-af4d-46ac77010a7f",
   "metadata": {},
   "outputs": [
    {
     "name": "stdout",
     "output_type": "stream",
     "text": [
      "15\n"
     ]
    }
   ],
   "source": [
    "x = 10\n",
    "  \n",
    "def my_function(x): \n",
    "    x += 5  \n",
    "    return x\n",
    "print(my_function(x))"
   ]
  },
  {
   "cell_type": "code",
   "execution_count": 36,
   "id": "b93c936f-e747-4248-9c29-19e51f4b33c3",
   "metadata": {},
   "outputs": [
    {
     "ename": "UnboundLocalError",
     "evalue": "local variable 'x' referenced before assignment",
     "output_type": "error",
     "traceback": [
      "\u001b[1;31m---------------------------------------------------------------------------\u001b[0m",
      "\u001b[1;31mUnboundLocalError\u001b[0m                         Traceback (most recent call last)",
      "\u001b[1;32m~\\AppData\\Local\\Temp/ipykernel_15992/2636983284.py\u001b[0m in \u001b[0;36m<module>\u001b[1;34m\u001b[0m\n\u001b[0;32m      4\u001b[0m     \u001b[0mx\u001b[0m \u001b[1;33m+=\u001b[0m \u001b[1;36m5\u001b[0m\u001b[1;33m\u001b[0m\u001b[1;33m\u001b[0m\u001b[0m\n\u001b[0;32m      5\u001b[0m     \u001b[1;32mreturn\u001b[0m \u001b[0mx\u001b[0m\u001b[1;33m\u001b[0m\u001b[1;33m\u001b[0m\u001b[0m\n\u001b[1;32m----> 6\u001b[1;33m \u001b[0mprint\u001b[0m\u001b[1;33m(\u001b[0m\u001b[0mmy_function\u001b[0m\u001b[1;33m(\u001b[0m\u001b[1;33m)\u001b[0m\u001b[1;33m)\u001b[0m\u001b[1;33m\u001b[0m\u001b[1;33m\u001b[0m\u001b[0m\n\u001b[0m\u001b[0;32m      7\u001b[0m \u001b[1;33m\u001b[0m\u001b[0m\n",
      "\u001b[1;32m~\\AppData\\Local\\Temp/ipykernel_15992/2636983284.py\u001b[0m in \u001b[0;36mmy_function\u001b[1;34m()\u001b[0m\n\u001b[0;32m      2\u001b[0m \u001b[1;33m\u001b[0m\u001b[0m\n\u001b[0;32m      3\u001b[0m \u001b[1;32mdef\u001b[0m \u001b[0mmy_function\u001b[0m\u001b[1;33m(\u001b[0m\u001b[1;33m)\u001b[0m\u001b[1;33m:\u001b[0m  \u001b[1;31m# fix me!\u001b[0m\u001b[1;33m\u001b[0m\u001b[1;33m\u001b[0m\u001b[0m\n\u001b[1;32m----> 4\u001b[1;33m     \u001b[0mx\u001b[0m \u001b[1;33m+=\u001b[0m \u001b[1;36m5\u001b[0m\u001b[1;33m\u001b[0m\u001b[1;33m\u001b[0m\u001b[0m\n\u001b[0m\u001b[0;32m      5\u001b[0m     \u001b[1;32mreturn\u001b[0m \u001b[0mx\u001b[0m\u001b[1;33m\u001b[0m\u001b[1;33m\u001b[0m\u001b[0m\n\u001b[0;32m      6\u001b[0m \u001b[0mprint\u001b[0m\u001b[1;33m(\u001b[0m\u001b[0mmy_function\u001b[0m\u001b[1;33m(\u001b[0m\u001b[1;33m)\u001b[0m\u001b[1;33m)\u001b[0m\u001b[1;33m\u001b[0m\u001b[1;33m\u001b[0m\u001b[0m\n",
      "\u001b[1;31mUnboundLocalError\u001b[0m: local variable 'x' referenced before assignment"
     ]
    }
   ],
   "source": [
    "x = 10\n",
    "  \n",
    "def my_function():  # fix me!\n",
    "    x += 5 \n",
    "    return x\n",
    "print(my_function())\n",
    " "
   ]
  },
  {
   "cell_type": "code",
   "execution_count": 39,
   "id": "bfa65e62-6da5-4e05-8890-61dfb5f74bcb",
   "metadata": {},
   "outputs": [
    {
     "name": "stdout",
     "output_type": "stream",
     "text": [
      "10\n"
     ]
    }
   ],
   "source": [
    "x = 10\n",
    "  \n",
    "def my_function(x): \n",
    "    x += 5  \n",
    "    return x\n",
    "my_function(x)\n",
    "print(x)"
   ]
  },
  {
   "cell_type": "code",
   "execution_count": 41,
   "id": "4ba8ff8a-5a5d-4733-8f21-d1623b3f5554",
   "metadata": {},
   "outputs": [
    {
     "name": "stdout",
     "output_type": "stream",
     "text": [
      "None\n"
     ]
    }
   ],
   "source": [
    "x = 10\n",
    "def my_function():\n",
    "    a = 1\n",
    "    def second_function():\n",
    "        a=2\n",
    "        print(a)\n",
    "        second_function()\n",
    "print(my_function())"
   ]
  },
  {
   "cell_type": "code",
   "execution_count": 42,
   "id": "ce7f1224-b7fa-4edc-b86b-800656f19fbe",
   "metadata": {},
   "outputs": [
    {
     "name": "stdout",
     "output_type": "stream",
     "text": [
      "2\n"
     ]
    }
   ],
   "source": [
    "a=1\n",
    "def my_funk(a=2):\n",
    "    print(a)\n",
    "my_funk()"
   ]
  },
  {
   "cell_type": "code",
   "execution_count": 13,
   "id": "8e9a2c6a-a366-43f2-a25a-88fcb7b3032a",
   "metadata": {},
   "outputs": [
    {
     "name": "stdin",
     "output_type": "stream",
     "text": [
      "Enter a number please:  9\n"
     ]
    },
    {
     "name": "stdout",
     "output_type": "stream",
     "text": [
      "[3, 2, 4, 6]\n"
     ]
    }
   ],
   "source": [
    "num = int(input(\"Enter a number please: \"))\n",
    "liste = []\n",
    "for num in range(2,num+1):\n",
    "    for i in range(2, num):\n",
    "        if (num % i) == 0:\n",
    "            break    \n",
    "    else:\n",
    "        liste.append(i)\n",
    "print(liste)"
   ]
  },
  {
   "cell_type": "code",
   "execution_count": 14,
   "id": "85a3943c-3fe6-453a-873b-4fd1d1ffb08b",
   "metadata": {},
   "outputs": [
    {
     "name": "stdin",
     "output_type": "stream",
     "text": [
      "Enter a number please:  9\n"
     ]
    },
    {
     "name": "stdout",
     "output_type": "stream",
     "text": [
      "[3, 2, 4, 6]\n"
     ]
    }
   ],
   "source": [
    "num = int(input(\"Enter a number please: \"))\n",
    "\n",
    "liste = []\n",
    "\n",
    "for num in range(2,num+1):\n",
    "\n",
    "    for i in range(2, num):\n",
    "\n",
    "        if (num % i) == 0:\n",
    "\n",
    "            break    \n",
    "\n",
    "    else:\n",
    "\n",
    "        liste.append(i)\n",
    "\n",
    "print(liste)"
   ]
  },
  {
   "cell_type": "code",
   "execution_count": 16,
   "id": "8b739e4a-816b-4f4c-bc28-c1163d2541c9",
   "metadata": {},
   "outputs": [
    {
     "name": "stdout",
     "output_type": "stream",
     "text": [
      "My name is Richard\n"
     ]
    }
   ],
   "source": [
    "x = 'My name is Richard'\n",
    "def my_function_1(): \n",
    "    x = 'My name is John'\n",
    "    return x\n",
    "print(x)"
   ]
  },
  {
   "cell_type": "code",
   "execution_count": 35,
   "id": "d479412b-a369-4919-b2ae-9466d680b00b",
   "metadata": {},
   "outputs": [
    {
     "ename": "SyntaxError",
     "evalue": "no binding for nonlocal 'city' found (Temp/ipykernel_13704/1857687219.py, line 3)",
     "output_type": "error",
     "traceback": [
      "\u001b[1;36m  File \u001b[1;32m\"C:\\Users\\tetik\\AppData\\Local\\Temp/ipykernel_13704/1857687219.py\"\u001b[1;36m, line \u001b[1;32m3\u001b[0m\n\u001b[1;33m    nonlocal city\u001b[0m\n\u001b[1;37m    ^\u001b[0m\n\u001b[1;31mSyntaxError\u001b[0m\u001b[1;31m:\u001b[0m no binding for nonlocal 'city' found\n"
     ]
    }
   ],
   "source": [
    "city = \"I love Paris!\"\n",
    "def my_function(): \n",
    "    nonlocal city\n",
    "    city = \"I love London!\"\n",
    "    print(city) "
   ]
  },
  {
   "cell_type": "code",
   "execution_count": 41,
   "id": "17749d6c-8f17-43bf-85af-8b97ae6ec7ee",
   "metadata": {},
   "outputs": [],
   "source": [
    "def outer():\n",
    "    x = \"previous\"\n",
    "    \n",
    "    def inner():\n",
    "        nonlocal x\n",
    "        x = \"later\"\n",
    "        print(\"inner:\", x)\n",
    "    \n",
    "    print(inner())\n",
    "    print(\"outer:\", x)"
   ]
  },
  {
   "cell_type": "code",
   "execution_count": 45,
   "id": "eb029f99-90c7-4616-8cf8-6f80b2d7c17f",
   "metadata": {},
   "outputs": [
    {
     "name": "stdout",
     "output_type": "stream",
     "text": [
      "inner: later\n",
      "outer: later\n"
     ]
    }
   ],
   "source": [
    "def outer():\n",
    "    x = \"previous\"\n",
    "    \n",
    "    def inner():\n",
    "        nonlocal x\n",
    "        x = \"later\"\n",
    "        print(\"inner:\", x)\n",
    "    \n",
    "    inner()\n",
    "    print(\"outer:\", x)\n",
    "outer()"
   ]
  },
  {
   "cell_type": "code",
   "execution_count": 46,
   "id": "65df72da-d97e-490f-8c8a-3c352e5cfcd5",
   "metadata": {},
   "outputs": [],
   "source": [
    "def outer():\n",
    "    x = \"previous\"\n",
    "    \n",
    "    def inner():\n",
    "        nonlocal x\n",
    "        x = \"later\"\n",
    "        print(\"inner:\", x)\n",
    "    \n",
    "    inner()\n",
    "    print(\"outer:\", x)"
   ]
  },
  {
   "cell_type": "code",
   "execution_count": 47,
   "id": "9ad66af3-8365-4d79-9c68-ce8eb641c9e9",
   "metadata": {},
   "outputs": [],
   "source": [
    "city = \"I love Paris!\"\n",
    "\n",
    "def my_function(): \n",
    "    city = \"I love London!\"\n",
    "    print(city) \n"
   ]
  },
  {
   "cell_type": "code",
   "execution_count": 49,
   "id": "b3cdcd98-3aa7-4e0e-8705-3aac705a16ca",
   "metadata": {},
   "outputs": [
    {
     "ename": "SyntaxError",
     "evalue": "Generator expression must be parenthesized (Temp/ipykernel_13704/3647467465.py, line 3)",
     "output_type": "error",
     "traceback": [
      "\u001b[1;36m  File \u001b[1;32m\"C:\\Users\\tetik\\AppData\\Local\\Temp/ipykernel_13704/3647467465.py\"\u001b[1;36m, line \u001b[1;32m3\u001b[0m\n\u001b[1;33m    result = list(map(lambda number_list: number_list[i]*3 for i in number_list,3))\u001b[0m\n\u001b[1;37m                      ^\u001b[0m\n\u001b[1;31mSyntaxError\u001b[0m\u001b[1;31m:\u001b[0m Generator expression must be parenthesized\n"
     ]
    }
   ],
   "source": [
    "number_list = [1, 2, 3, 4, 5]\n",
    "\n",
    "result = list(map(lambda number_list: number_list[i]*3 for i in number_list,3))"
   ]
  },
  {
   "cell_type": "markdown",
   "id": "127fcc93-a6ea-40f5-bda6-6a99c8ee0b32",
   "metadata": {},
   "source": [
    "Merhaba arkadaşlar sizler için günün sorusunu aşağıya bırakıyorum kolay gelsin... :mann_meldet_sich:\n",
    "Aynı zamanda hem 2'ye hem 4'e hem de 5'e bölünebilen sayılara xyz sayısı diyelim. Hem 2'ye hem de 5'e bölünebilen sayılar ise abc sayısı olsun. 100 ile 300 arasındaki xyz sayılarından kaç tanesi aynı zamanda abc sayısıdır? xyz, abc ve her ikisinde bulunan sayıları da yazdıralım...\n",
    "buna benzer bir çıktı istiyorum\n",
    "xyz = [100, 120, 140, 160, 180, 200, 220, 240, 260, 280]\n",
    "abc = [100, 110, 120, 130, 140, 150, 160, 170, 180, 190, 200, 210, 220, 230, 240, 250, 260, 270, 280, 290]\n",
    "kesisim = {100, 120, 140, 160, 180, 200, 220, 240, 260, 280}\n",
    "adet = 10"
   ]
  },
  {
   "cell_type": "code",
   "execution_count": 55,
   "id": "4acd6a4d-750d-4e31-b896-750c2f3b6b8b",
   "metadata": {},
   "outputs": [
    {
     "name": "stdout",
     "output_type": "stream",
     "text": [
      "xyz =  [100, 120, 140, 160, 180, 200, 220, 240, 260, 280]\n",
      "abc =  [100, 110, 120, 130, 140, 150, 160, 170, 180, 190, 200, 210, 220, 230, 240, 250, 260, 270, 280, 290]\n",
      "kesisim =  {160, 100, 260, 200, 140, 240, 220, 180, 280, 120}\n",
      "adet =  10\n"
     ]
    }
   ],
   "source": [
    "xyz = []\n",
    "abc = []\n",
    "for i in range(100,300):\n",
    "    if i%4==0 and i%5==0:\n",
    "        xyz.append(i)\n",
    "for j in range(100,300):\n",
    "    if j%2==0 and j%5==0:\n",
    "        abc.append(j)\n",
    "kesisim = set(xyz).intersection(set(abc))\n",
    "adet = len(kesisim)\n",
    "print(\"xyz = \", xyz)\n",
    "print(\"abc = \", abc)\n",
    "print(\"kesisim = \", kesisim)\n",
    "print(\"adet = \", adet)\n"
   ]
  },
  {
   "cell_type": "code",
   "execution_count": 56,
   "id": "fd227200-2b5a-4689-a32f-5bb12bfabfd4",
   "metadata": {},
   "outputs": [
    {
     "name": "stdout",
     "output_type": "stream",
     "text": [
      "xyz =  [100, 120, 140, 160, 180, 200, 220, 240, 260, 280]\n",
      "abc =  [100, 110, 120, 130, 140, 150, 160, 170, 180, 190, 200, 210, 220, 230, 240, 250, 260, 270, 280, 290]\n",
      "intersection =  {160, 100, 260, 200, 140, 240, 220, 180, 280, 120}\n",
      "count =  10\n"
     ]
    }
   ],
   "source": [
    "xyz_numbers = []\n",
    "abc_numbers = []\n",
    "for i in range(100, 300):\n",
    "    if (i % 2 == 0) and (i % 4 == 0) and (i % 5 == 0) :\n",
    "        xyz_numbers.append(i)\n",
    "    if i % 10 == 0:\n",
    "        abc_numbers.append(i)\n",
    "intersection = set(xyz_numbers).intersection(set(abc_numbers))\n",
    "print(\"xyz = \", xyz_numbers)\n",
    "print(\"abc = \", abc_numbers)\n",
    "print(\"intersection = \", intersection )\n",
    "count = 0 \n",
    "for i in intersection:\n",
    "    count +=1\n",
    "print(\"count = \", count)"
   ]
  },
  {
   "cell_type": "code",
   "execution_count": 64,
   "id": "37d9b916-dd25-4d86-8506-2131f957a426",
   "metadata": {},
   "outputs": [
    {
     "name": "stdout",
     "output_type": "stream",
     "text": [
      "xyz =  [200, 240, 280, 320, 360, 400, 440, 480, 520, 560]\n",
      "abc =  [100, 110, 120, 130, 140, 150, 160, 170, 180, 190, 200, 210, 220, 230, 240, 250, 260, 270, 280, 290]\n",
      "kesisim =  {200, 240, 280}\n",
      "adet =  3\n"
     ]
    }
   ],
   "source": [
    "xyz = [i for i in range(100,300) if i%4==0 and i%5==0]        \n",
    "abc = [j for j in range(100,300) if j%2==0 and j%5==0]  \n",
    "print(\"xyz = \", xyz)\n",
    "print(\"abc = \", abc)\n",
    "print(\"kesisim = \", set(xyz).intersection(set(abc)))\n",
    "print(\"adet = \",len(set(xyz).intersection(set(abc))))"
   ]
  },
  {
   "cell_type": "code",
   "execution_count": null,
   "id": "6cc5b5d0-4e0f-449a-adfc-3d0768352146",
   "metadata": {},
   "outputs": [],
   "source": []
  }
 ],
 "metadata": {
  "kernelspec": {
   "display_name": "Python 3 (ipykernel)",
   "language": "python",
   "name": "python3"
  },
  "language_info": {
   "codemirror_mode": {
    "name": "ipython",
    "version": 3
   },
   "file_extension": ".py",
   "mimetype": "text/x-python",
   "name": "python",
   "nbconvert_exporter": "python",
   "pygments_lexer": "ipython3",
   "version": "3.9.7"
  }
 },
 "nbformat": 4,
 "nbformat_minor": 5
}
