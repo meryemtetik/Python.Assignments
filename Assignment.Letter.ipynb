{
 "cells": [
  {
   "cell_type": "code",
   "execution_count": 1,
   "id": "b6c828c1-f03c-44ab-8055-f0cdccb16b0f",
   "metadata": {},
   "outputs": [
    {
     "name": "stdin",
     "output_type": "stream",
     "text": [
      " bugün hava yagmurlu!\n"
     ]
    },
    {
     "name": "stdout",
     "output_type": "stream",
     "text": [
      "{'b': 1, 'u': 3, 'g': 2, 'ü': 1, 'n': 1, ' ': 2, 'h': 1, 'a': 3, 'v': 1, 'y': 1, 'm': 1, 'r': 1, 'l': 1, '!': 1}\n"
     ]
    }
   ],
   "source": [
    "sentence = input()\n",
    "dic = {}\n",
    "for i in sentence:\n",
    "    dic[i] = sentence.count(i)\n",
    "print(dic) "
   ]
  },
  {
   "cell_type": "code",
   "execution_count": 3,
   "id": "383bafa4-5209-484a-9115-3d3d04f5d477",
   "metadata": {},
   "outputs": [
    {
     "name": "stdin",
     "output_type": "stream",
     "text": [
      " hgkhg\n"
     ]
    },
    {
     "name": "stdout",
     "output_type": "stream",
     "text": [
      "{}\n"
     ]
    }
   ],
   "source": []
  },
  {
   "cell_type": "code",
   "execution_count": null,
   "id": "381cf229-1d92-4bbf-9802-08fdd24ed57f",
   "metadata": {},
   "outputs": [],
   "source": []
  }
 ],
 "metadata": {
  "kernelspec": {
   "display_name": "Python 3 (ipykernel)",
   "language": "python",
   "name": "python3"
  },
  "language_info": {
   "codemirror_mode": {
    "name": "ipython",
    "version": 3
   },
   "file_extension": ".py",
   "mimetype": "text/x-python",
   "name": "python",
   "nbconvert_exporter": "python",
   "pygments_lexer": "ipython3",
   "version": "3.9.7"
  }
 },
 "nbformat": 4,
 "nbformat_minor": 5
}
