{
 "cells": [
  {
   "cell_type": "code",
   "execution_count": 3,
   "id": "2a12ad22",
   "metadata": {},
   "outputs": [
    {
     "ename": "NameError",
     "evalue": "name 'CountFrequency' is not defined",
     "output_type": "error",
     "traceback": [
      "\u001b[1;31m---------------------------------------------------------------------------\u001b[0m",
      "\u001b[1;31mNameError\u001b[0m                                 Traceback (most recent call last)",
      "\u001b[1;32m~\\AppData\\Local\\Temp/ipykernel_18548/2812388051.py\u001b[0m in \u001b[0;36m<module>\u001b[1;34m\u001b[0m\n\u001b[0;32m      1\u001b[0m \u001b[0mnumbers\u001b[0m \u001b[1;33m=\u001b[0m \u001b[1;33m[\u001b[0m\u001b[1;36m1\u001b[0m\u001b[1;33m,\u001b[0m \u001b[1;36m3\u001b[0m\u001b[1;33m,\u001b[0m \u001b[1;36m7\u001b[0m\u001b[1;33m,\u001b[0m \u001b[1;36m4\u001b[0m\u001b[1;33m,\u001b[0m \u001b[1;36m3\u001b[0m\u001b[1;33m,\u001b[0m \u001b[1;36m0\u001b[0m\u001b[1;33m,\u001b[0m \u001b[1;36m3\u001b[0m\u001b[1;33m,\u001b[0m \u001b[1;36m6\u001b[0m\u001b[1;33m,\u001b[0m \u001b[1;36m3\u001b[0m\u001b[1;33m]\u001b[0m\u001b[1;33m\u001b[0m\u001b[1;33m\u001b[0m\u001b[0m\n\u001b[1;32m----> 2\u001b[1;33m \u001b[0mCountFrequency\u001b[0m\u001b[1;33m(\u001b[0m\u001b[0mnumbers\u001b[0m\u001b[1;33m)\u001b[0m\u001b[1;33m\u001b[0m\u001b[1;33m\u001b[0m\u001b[0m\n\u001b[0m",
      "\u001b[1;31mNameError\u001b[0m: name 'CountFrequency' is not defined"
     ]
    }
   ],
   "source": [
    "numbers = [1, 3, 7, 4, 3, 0, 3, 6, 3]\n",
    "CountFrequency(numbers)\n"
   ]
  },
  {
   "cell_type": "code",
   "execution_count": 1,
   "id": "deba73ea",
   "metadata": {},
   "outputs": [
    {
     "ename": "IndentationError",
     "evalue": "expected an indented block (Temp/ipykernel_5564/751128358.py, line 4)",
     "output_type": "error",
     "traceback": [
      "\u001b[1;36m  File \u001b[1;32m\"C:\\Users\\tetik\\AppData\\Local\\Temp/ipykernel_5564/751128358.py\"\u001b[1;36m, line \u001b[1;32m4\u001b[0m\n\u001b[1;33m    print(a[i],'=',a.count(a[i]))\u001b[0m\n\u001b[1;37m    ^\u001b[0m\n\u001b[1;31mIndentationError\u001b[0m\u001b[1;31m:\u001b[0m expected an indented block\n"
     ]
    }
   ],
   "source": [
    "a=numbers(set(liste))\n",
    "a.sort()\n",
    "for i in range(len(a)):\n",
    "print(a[i],'=',a.count(a[i]))"
   ]
  },
  {
   "cell_type": "code",
   "execution_count": 18,
   "id": "083346f3",
   "metadata": {},
   "outputs": [
    {
     "name": "stdout",
     "output_type": "stream",
     "text": [
      "the most frequent number is 3 and it was 4 times repeated\n"
     ]
    }
   ],
   "source": [
    "numbers = [1, 3, 7, 4, 3, 0, 3, 6, 3]\n",
    "i =3\n",
    "for i in numbers:\n",
    "    numbers.count(i)\n",
    "print(\"the most frequent number is {0} and it was {1} times repeated\".format(i,numbers.count(i)))\n",
    "    \n",
    "\n",
    "\n"
   ]
  },
  {
   "cell_type": "code",
   "execution_count": 3,
   "id": "2a07a027",
   "metadata": {},
   "outputs": [
    {
     "data": {
      "text/plain": [
       "16"
      ]
     },
     "execution_count": 3,
     "metadata": {},
     "output_type": "execute_result"
    }
   ],
   "source": [
    "numbers = [-1, 3, 7, 4, 3, 0, 3, 16, 3, 7, 0, 0, 1]\n",
    "max(numbers)"
   ]
  },
  {
   "cell_type": "code",
   "execution_count": 4,
   "id": "6e57d694-f4f2-462f-add8-96b59b2792f9",
   "metadata": {},
   "outputs": [
    {
     "data": {
      "text/plain": [
       "5"
      ]
     },
     "execution_count": 4,
     "metadata": {},
     "output_type": "execute_result"
    }
   ],
   "source": [
    "max(2, 3, 5)"
   ]
  },
  {
   "cell_type": "code",
   "execution_count": 5,
   "id": "a64ded18-3c6f-4fdf-8cba-5aee87674eca",
   "metadata": {},
   "outputs": [
    {
     "data": {
      "text/plain": [
       "'Bos'"
      ]
     },
     "execution_count": 5,
     "metadata": {},
     "output_type": "execute_result"
    }
   ],
   "source": [
    "empty = []\n",
    "max(empty, default = \"Bos\")"
   ]
  },
  {
   "cell_type": "code",
   "execution_count": 6,
   "id": "0a81d23d-58f4-463f-ac3d-b6386bc6862e",
   "metadata": {},
   "outputs": [
    {
     "data": {
      "text/plain": [
       "22"
      ]
     },
     "execution_count": 6,
     "metadata": {},
     "output_type": "execute_result"
    }
   ],
   "source": [
    "max(empty, default = 22)"
   ]
  },
  {
   "cell_type": "code",
   "execution_count": 7,
   "id": "975bbe1e-6c03-4768-bc9b-599b332be0cc",
   "metadata": {},
   "outputs": [],
   "source": [
    "def most_frequent(numbers):\n",
    "    return max(set(numbers), key = numbers.count)"
   ]
  },
  {
   "cell_type": "code",
   "execution_count": 8,
   "id": "3050f375-f82c-409c-8abf-47453f758da4",
   "metadata": {},
   "outputs": [],
   "source": [
    "sequence = [1, 1, 1, 1, 2, 2, 2, 3, 3, 4]"
   ]
  },
  {
   "cell_type": "code",
   "execution_count": 9,
   "id": "28cf64ec-e003-4ae8-8c33-812a62767bd9",
   "metadata": {},
   "outputs": [
    {
     "data": {
      "text/plain": [
       "1"
      ]
     },
     "execution_count": 9,
     "metadata": {},
     "output_type": "execute_result"
    }
   ],
   "source": [
    "sequence.count(4)"
   ]
  },
  {
   "cell_type": "code",
   "execution_count": 10,
   "id": "07475a7f-85ae-4f1e-aae6-d2b38cfd8e88",
   "metadata": {},
   "outputs": [
    {
     "data": {
      "text/plain": [
       "4"
      ]
     },
     "execution_count": 10,
     "metadata": {},
     "output_type": "execute_result"
    }
   ],
   "source": [
    "sequence.count(1)"
   ]
  },
  {
   "cell_type": "code",
   "execution_count": 11,
   "id": "9aaf7f0d-495a-4f96-bb91-15bde6f5e276",
   "metadata": {},
   "outputs": [
    {
     "data": {
      "text/plain": [
       "[-1, 3, 7, 4, 3, 0, 3, 16, 3, 7, 0, 0, 1]"
      ]
     },
     "execution_count": 11,
     "metadata": {},
     "output_type": "execute_result"
    }
   ],
   "source": [
    "numbers"
   ]
  },
  {
   "cell_type": "code",
   "execution_count": 12,
   "id": "2d7914f4-7255-419c-965c-9b5a9ab3e4c8",
   "metadata": {},
   "outputs": [
    {
     "data": {
      "text/plain": [
       "16"
      ]
     },
     "execution_count": 12,
     "metadata": {},
     "output_type": "execute_result"
    }
   ],
   "source": [
    "max(numbers)"
   ]
  },
  {
   "cell_type": "code",
   "execution_count": 13,
   "id": "c3522222-5f62-45eb-be8b-3a0e05439027",
   "metadata": {},
   "outputs": [
    {
     "data": {
      "text/plain": [
       "1"
      ]
     },
     "execution_count": 13,
     "metadata": {},
     "output_type": "execute_result"
    }
   ],
   "source": [
    "numbers.count(16)"
   ]
  },
  {
   "cell_type": "code",
   "execution_count": 14,
   "id": "9eec4105-3cfe-4aed-bff6-f47fb122967b",
   "metadata": {},
   "outputs": [
    {
     "data": {
      "text/plain": [
       "1"
      ]
     },
     "execution_count": 14,
     "metadata": {},
     "output_type": "execute_result"
    }
   ],
   "source": [
    "numbers.count(max(numbers))"
   ]
  },
  {
   "cell_type": "code",
   "execution_count": 15,
   "id": "cf1fd5f1-4133-4f75-b05a-5710f1a6e13c",
   "metadata": {},
   "outputs": [
    {
     "data": {
      "text/plain": [
       "3"
      ]
     },
     "execution_count": 15,
     "metadata": {},
     "output_type": "execute_result"
    }
   ],
   "source": [
    "max(numbers, key = numbers.count)"
   ]
  },
  {
   "cell_type": "code",
   "execution_count": 16,
   "id": "4a28f1dc-8ee2-402c-ab70-afb8bb1a9e9b",
   "metadata": {},
   "outputs": [
    {
     "data": {
      "text/plain": [
       "4"
      ]
     },
     "execution_count": 16,
     "metadata": {},
     "output_type": "execute_result"
    }
   ],
   "source": [
    "numbers.count(max(numbers, key = numbers.count))"
   ]
  },
  {
   "cell_type": "code",
   "execution_count": null,
   "id": "eaa40eac-59f7-4e09-bef2-8c81b2745cf0",
   "metadata": {},
   "outputs": [],
   "source": []
  },
  {
   "cell_type": "code",
   "execution_count": null,
   "id": "eaffcd8a-078e-4d64-9f43-bd78eb94f975",
   "metadata": {},
   "outputs": [],
   "source": []
  },
  {
   "cell_type": "code",
   "execution_count": null,
   "id": "997d070d-ffbd-478a-877c-fd50d994b909",
   "metadata": {},
   "outputs": [],
   "source": []
  }
 ],
 "metadata": {
  "kernelspec": {
   "display_name": "Python 3 (ipykernel)",
   "language": "python",
   "name": "python3"
  },
  "language_info": {
   "codemirror_mode": {
    "name": "ipython",
    "version": 3
   },
   "file_extension": ".py",
   "mimetype": "text/x-python",
   "name": "python",
   "nbconvert_exporter": "python",
   "pygments_lexer": "ipython3",
   "version": "3.9.7"
  }
 },
 "nbformat": 4,
 "nbformat_minor": 5
}
