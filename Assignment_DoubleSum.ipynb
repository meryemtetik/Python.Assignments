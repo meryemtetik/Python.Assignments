{
 "cells": [
  {
   "cell_type": "markdown",
   "id": "df8d8cf1-66ca-4903-9980-8f93c3d51bce",
   "metadata": {},
   "source": [
    "Given two integer values, return their sum. If the two values are the same, then return double their sum.\n",
    "\n",
    "\n",
    "\n",
    "\n",
    "For example:\n",
    "\n",
    "Test\tResult\n",
    "print(sum_double(1, 2))\n",
    "3\n",
    "print(sum_double(5, 7))\n",
    "12\n",
    "print(sum_double(5, 5))\n",
    "20\n"
   ]
  },
  {
   "cell_type": "code",
   "execution_count": 6,
   "id": "2eda0b98-1b53-49f2-9dfd-17fe76e078a4",
   "metadata": {},
   "outputs": [],
   "source": [
    "def sum_double(x,y):\n",
    "    if x==y:\n",
    "        return (x+y)*2\n",
    "    else:\n",
    "        return x+y"
   ]
  },
  {
   "cell_type": "code",
   "execution_count": null,
   "id": "ad5c45ed-1145-4432-ab99-d6a3adc8ca4e",
   "metadata": {},
   "outputs": [],
   "source": []
  },
  {
   "cell_type": "code",
   "execution_count": 7,
   "id": "967187a1-43fc-4750-8ce0-b723476d8505",
   "metadata": {},
   "outputs": [
    {
     "name": "stdin",
     "output_type": "stream",
     "text": [
      " [2, 4, 5]\n"
     ]
    },
    {
     "name": "stderr",
     "output_type": "stream",
     "text": [
      "IOPub data rate exceeded.\n",
      "The Jupyter server will temporarily stop sending output\n",
      "to the client in order to avoid crashing it.\n",
      "To change this limit, set the config variable\n",
      "`--ServerApp.iopub_data_rate_limit`.\n",
      "\n",
      "Current values:\n",
      "ServerApp.iopub_data_rate_limit=1000000.0 (bytes/sec)\n",
      "ServerApp.rate_limit_window=3.0 (secs)\n",
      "\n"
     ]
    }
   ],
   "source": [
    "liste = input()\n",
    "result = [[]]\n",
    "for i in liste:\n",
    "    new_perms = []\n",
    "    for j in result:\n",
    "        for k in range(len(j)+1):\n",
    "            new_perms.append(j[:k] + [i] + j[k:])\n",
    "            result = new_perms\n",
    "\n",
    "print(\"Original list : \",liste)\n",
    "print(\"New list :\\n\",result)"
   ]
  },
  {
   "cell_type": "code",
   "execution_count": null,
   "id": "d6923aa5-84dd-471f-b242-1cafaf4bcf00",
   "metadata": {},
   "outputs": [],
   "source": []
  }
 ],
 "metadata": {
  "kernelspec": {
   "display_name": "Python 3 (ipykernel)",
   "language": "python",
   "name": "python3"
  },
  "language_info": {
   "codemirror_mode": {
    "name": "ipython",
    "version": 3
   },
   "file_extension": ".py",
   "mimetype": "text/x-python",
   "name": "python",
   "nbconvert_exporter": "python",
   "pygments_lexer": "ipython3",
   "version": "3.9.7"
  }
 },
 "nbformat": 4,
 "nbformat_minor": 5
}
