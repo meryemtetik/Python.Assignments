{
 "cells": [
  {
   "cell_type": "code",
   "execution_count": 6,
   "id": "37eb668c-0a5e-40bc-bc99-cb19941f08ca",
   "metadata": {},
   "outputs": [
    {
     "name": "stdin",
     "output_type": "stream",
     "text": [
      " 14\n"
     ]
    },
    {
     "name": "stdout",
     "output_type": "stream",
     "text": [
      "14 is not a prime number\n"
     ]
    }
   ],
   "source": [
    "n=int(input())\n",
    "if n!=0 and n>1:\n",
    "    for i in range(2,n):\n",
    "        if n%i==0:\n",
    "            print(f\"{n} is not a prime number\")\n",
    "        else:\n",
    "            print(f\"{n} is a prime number\")\n",
    "        break"
   ]
  },
  {
   "cell_type": "code",
   "execution_count": 8,
   "id": "87951658-f302-42df-8ac9-10a0e170df20",
   "metadata": {},
   "outputs": [
    {
     "name": "stdin",
     "output_type": "stream",
     "text": [
      " 11\n"
     ]
    },
    {
     "name": "stdout",
     "output_type": "stream",
     "text": [
      "11  is a prime number.\n"
     ]
    }
   ],
   "source": [
    "n = int(input())\n",
    "counter = 0\n",
    "for i in range(1, n+1):\n",
    "    if n % i == 0:\n",
    "        counter +=1\n",
    "if (n == 0) or (n == 1) or (counter >=3):\n",
    "    print(n,\" is  not a prime number.\")\n",
    "else:\n",
    "    print(n, \" is a prime number.\")"
   ]
  },
  {
   "cell_type": "code",
   "execution_count": null,
   "id": "696755dc-1f23-47de-bee0-52717f8d2b27",
   "metadata": {},
   "outputs": [],
   "source": []
  }
 ],
 "metadata": {
  "kernelspec": {
   "display_name": "Python 3 (ipykernel)",
   "language": "python",
   "name": "python3"
  },
  "language_info": {
   "codemirror_mode": {
    "name": "ipython",
    "version": 3
   },
   "file_extension": ".py",
   "mimetype": "text/x-python",
   "name": "python",
   "nbconvert_exporter": "python",
   "pygments_lexer": "ipython3",
   "version": "3.9.7"
  }
 },
 "nbformat": 4,
 "nbformat_minor": 5
}
