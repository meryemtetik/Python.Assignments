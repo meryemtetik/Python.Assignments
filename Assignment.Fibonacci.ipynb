{
 "cells": [
  {
   "cell_type": "code",
   "execution_count": 19,
   "id": "f39919dd-ed28-482f-8108-30efcdb76515",
   "metadata": {},
   "outputs": [
    {
     "name": "stdout",
     "output_type": "stream",
     "text": [
      "fibonacci ->  [1, 1, 2, 3, 5, 8, 13, 21, 34, 55]\n"
     ]
    }
   ],
   "source": [
    "fibonacci = [0, 1]\n",
    "new_list = []\n",
    "for i in range(1, 55):\n",
    "    sum1 = fibonacci[i-1] + fibonacci[i]\n",
    "    fibonacci.append(sum1)\n",
    "for j in range(1,55):\n",
    "    if fibonacci[j] > 55:\n",
    "        break\n",
    "    new_list.append(fibonacci[j])\n",
    "print(\"fibonacci -> \", new_list)\n",
    "\n",
    "    "
   ]
  },
  {
   "cell_type": "code",
   "execution_count": 1,
   "id": "59585768-7ff4-4dcd-8240-06fdfeb13d3e",
   "metadata": {},
   "outputs": [
    {
     "data": {
      "text/plain": [
       "[1, 1, 2, 3, 5, 8, 13, 21, 34, 55]"
      ]
     },
     "execution_count": 1,
     "metadata": {},
     "output_type": "execute_result"
    }
   ],
   "source": [
    "fibo = [1, 1]\n",
    "for i in range(8) :\n",
    "    fibo.append(fibo[i] + fibo[i+1])\n",
    "fibo"
   ]
  },
  {
   "cell_type": "code",
   "execution_count": 2,
   "id": "14188108-d70d-46a7-ac43-6e5eb648c642",
   "metadata": {},
   "outputs": [
    {
     "name": "stdin",
     "output_type": "stream",
     "text": [
      " 8\n"
     ]
    },
    {
     "data": {
      "text/plain": [
       "[1, 1, 2, 3, 5, 8, 13, 21]"
      ]
     },
     "execution_count": 2,
     "metadata": {},
     "output_type": "execute_result"
    }
   ],
   "source": [
    "n = int(input())\n",
    "fibo = [1,1]\n",
    "for i in range(n-2):\n",
    "    fibo.append(fibo[i] + fibo[i+1])\n",
    "fibo"
   ]
  },
  {
   "cell_type": "code",
   "execution_count": 3,
   "id": "dfe17d46-ea13-4504-911c-5210660962e6",
   "metadata": {},
   "outputs": [
    {
     "ename": "TypeError",
     "evalue": "filter expected 2 arguments, got 0",
     "output_type": "error",
     "traceback": [
      "\u001b[1;31m---------------------------------------------------------------------------\u001b[0m",
      "\u001b[1;31mTypeError\u001b[0m                                 Traceback (most recent call last)",
      "\u001b[1;32m~\\AppData\\Local\\Temp/ipykernel_6844/2498113903.py\u001b[0m in \u001b[0;36m<module>\u001b[1;34m\u001b[0m\n\u001b[1;32m----> 1\u001b[1;33m \u001b[0mfilter\u001b[0m\u001b[1;33m(\u001b[0m\u001b[1;33m)\u001b[0m\u001b[1;33m\u001b[0m\u001b[1;33m\u001b[0m\u001b[0m\n\u001b[0m",
      "\u001b[1;31mTypeError\u001b[0m: filter expected 2 arguments, got 0"
     ]
    }
   ],
   "source": [
    "filter()"
   ]
  },
  {
   "cell_type": "code",
   "execution_count": 4,
   "id": "97328ad4-34ab-41e9-9c40-fe8f48c44353",
   "metadata": {},
   "outputs": [
    {
     "ename": "SyntaxError",
     "evalue": "cannot assign to True (Temp/ipykernel_6844/904642462.py, line 1)",
     "output_type": "error",
     "traceback": [
      "\u001b[1;36m  File \u001b[1;32m\"C:\\Users\\tetik\\AppData\\Local\\Temp/ipykernel_6844/904642462.py\"\u001b[1;36m, line \u001b[1;32m1\u001b[0m\n\u001b[1;33m    True = [\"a\",\"e\",\"i\",\"o\",\"ö\",\"u\",\"ü\"]\u001b[0m\n\u001b[1;37m    ^\u001b[0m\n\u001b[1;31mSyntaxError\u001b[0m\u001b[1;31m:\u001b[0m cannot assign to True\n"
     ]
    }
   ],
   "source": [
    "True = [\"a\",\"e\",\"i\",\"o\",\"ö\",\"u\",\"ü\"]\n",
    "sentence = input()\n",
    "sentence.split()\n",
    "for i in range(sentence)"
   ]
  },
  {
   "cell_type": "code",
   "execution_count": 5,
   "id": "24b04967-6358-490f-b215-a9b35fda65d5",
   "metadata": {},
   "outputs": [],
   "source": [
    "def vowel(letter):\n",
    "    vowels = \"a e ı i o ö u ü\".split()\n",
    "    if letter.lower() in vowels:\n",
    "        return True\n",
    "    else:\n",
    "        return False\n",
    "    \n",
    "    "
   ]
  },
  {
   "cell_type": "code",
   "execution_count": 15,
   "id": "810ce549-ce4c-4020-8164-43e2a986357c",
   "metadata": {},
   "outputs": [],
   "source": [
    "filtered_vowels = filter(vowel, cümle)"
   ]
  },
  {
   "cell_type": "code",
   "execution_count": 16,
   "id": "af836441-ca41-4756-b186-079b5557041f",
   "metadata": {},
   "outputs": [],
   "source": [
    "cümle = \"Ben sana mecburum bilemezsin, Adini muh gibi aklima kazidim.\"\n"
   ]
  },
  {
   "cell_type": "code",
   "execution_count": 17,
   "id": "ff52141b-5b3d-4b90-805e-047dbaf6684c",
   "metadata": {},
   "outputs": [
    {
     "data": {
      "text/plain": [
       "['e',\n",
       " 'a',\n",
       " 'a',\n",
       " 'e',\n",
       " 'u',\n",
       " 'u',\n",
       " 'i',\n",
       " 'e',\n",
       " 'e',\n",
       " 'i',\n",
       " 'A',\n",
       " 'i',\n",
       " 'i',\n",
       " 'u',\n",
       " 'i',\n",
       " 'i',\n",
       " 'a',\n",
       " 'i',\n",
       " 'a',\n",
       " 'a',\n",
       " 'i',\n",
       " 'i']"
      ]
     },
     "execution_count": 17,
     "metadata": {},
     "output_type": "execute_result"
    }
   ],
   "source": [
    "list(filtered_vowels)"
   ]
  },
  {
   "cell_type": "code",
   "execution_count": 18,
   "id": "9d2368d5-cd7d-42b9-a869-cc2f7452e15a",
   "metadata": {},
   "outputs": [
    {
     "data": {
      "text/plain": [
       "['e',\n",
       " 'a',\n",
       " 'a',\n",
       " 'e',\n",
       " 'u',\n",
       " 'u',\n",
       " 'i',\n",
       " 'e',\n",
       " 'e',\n",
       " 'i',\n",
       " 'A',\n",
       " 'i',\n",
       " 'i',\n",
       " 'u',\n",
       " 'i',\n",
       " 'i',\n",
       " 'a',\n",
       " 'i',\n",
       " 'a',\n",
       " 'a',\n",
       " 'i',\n",
       " 'i']"
      ]
     },
     "execution_count": 18,
     "metadata": {},
     "output_type": "execute_result"
    }
   ],
   "source": [
    "filtered_vowels = filter(vowel, cümle)\n",
    "list(filtered_vowels)"
   ]
  },
  {
   "cell_type": "code",
   "execution_count": null,
   "id": "2fde6d8e-db58-4f2b-bb48-832e0bfc9e7c",
   "metadata": {},
   "outputs": [],
   "source": []
  }
 ],
 "metadata": {
  "kernelspec": {
   "display_name": "Python 3 (ipykernel)",
   "language": "python",
   "name": "python3"
  },
  "language_info": {
   "codemirror_mode": {
    "name": "ipython",
    "version": 3
   },
   "file_extension": ".py",
   "mimetype": "text/x-python",
   "name": "python",
   "nbconvert_exporter": "python",
   "pygments_lexer": "ipython3",
   "version": "3.9.7"
  }
 },
 "nbformat": 4,
 "nbformat_minor": 5
}
