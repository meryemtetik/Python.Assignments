{
 "cells": [
  {
   "cell_type": "code",
   "execution_count": 1,
   "id": "8a5b2294",
   "metadata": {},
   "outputs": [
    {
     "name": "stdout",
     "output_type": "stream",
     "text": [
      "Name: Meryem\n",
      "Hello, Meryem! The password is : H&A.1618\n"
     ]
    }
   ],
   "source": [
    "name = \"Meryem\"\n",
    "name_new = input(\"Name: \")\n",
    "password =\"H&A.1618\"\n",
    "if name==name_new :\n",
    "    print(\"Hello, {0}! The password is : {1}\".format(name,password))\n",
    "else:\n",
    "    print(\"Hello, {}! See you later.\".format(name_new))"
   ]
  },
  {
   "cell_type": "code",
   "execution_count": null,
   "id": "081ed620",
   "metadata": {},
   "outputs": [],
   "source": []
  },
  {
   "cell_type": "code",
   "execution_count": null,
   "id": "62606c26",
   "metadata": {},
   "outputs": [],
   "source": []
  },
  {
   "cell_type": "code",
   "execution_count": null,
   "id": "715b4ca1",
   "metadata": {},
   "outputs": [],
   "source": []
  }
 ],
 "metadata": {
  "kernelspec": {
   "display_name": "Python 3 (ipykernel)",
   "language": "python",
   "name": "python3"
  },
  "language_info": {
   "codemirror_mode": {
    "name": "ipython",
    "version": 3
   },
   "file_extension": ".py",
   "mimetype": "text/x-python",
   "name": "python",
   "nbconvert_exporter": "python",
   "pygments_lexer": "ipython3",
   "version": "3.9.7"
  }
 },
 "nbformat": 4,
 "nbformat_minor": 5
}
