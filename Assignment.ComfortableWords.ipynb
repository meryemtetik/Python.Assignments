{
 "cells": [
  {
   "cell_type": "code",
   "execution_count": null,
   "id": "b9f8d481-09c4-4419-b05e-a228a4ba5a34",
   "metadata": {},
   "outputs": [],
   "source": [
    "left_hand_fingers = {\"q\", \"w\", \"e\", \"r\", \"t\",\"a\", \"s\", \"d\", \"f\", \"g\", \"x\", \"c\", \"v\", \"z\", \"b\" }\n",
    "right_hand_fingers = {\"y\", \"u\", \"i\", \"o\", \"p\", \"h\", \"j\", \"k\", \"l\", \"n\", \"m\"}\n",
    "word = \"tester\"\n",
    "for i in word:\n",
    "    while i in left_hand_fingers and i in right_hand_fingers:\n",
    "            print(bool(i))\n",
    "    \n",
    "    "
   ]
  },
  {
   "cell_type": "code",
   "execution_count": null,
   "id": "588539d5-3752-4c47-be24-2c476ab3f979",
   "metadata": {},
   "outputs": [],
   "source": [
    "left_hand_fingers = \"qwertasdfgxcvzb\"\n",
    "right_hand_fingers = \"yuiophjklnm\"\n",
    "word =\"tester\"\n",
    "for i in word:\n",
    "    while i in left_hand_fingers:\n",
    "        for j in right_hand_fingers:\n",
    "            print(bool(\"i\"))"
   ]
  },
  {
   "cell_type": "code",
   "execution_count": null,
   "id": "d1e83992-2394-4c28-904e-85207ad7c054",
   "metadata": {},
   "outputs": [],
   "source": [
    "left_hand_fingers = {\"q\", \"w\", \"e\", \"r\", \"t\",\"a\", \"s\", \"d\", \"f\", \"g\", \"x\", \"c\", \"v\", \"z\", \"b\" }\n",
    "right_hand_fingers = {\"y\", \"u\", \"i\", \"o\", \"p\", \"h\", \"j\", \"k\", \"l\", \"n\", \"m\"}\n",
    "word = \"tester\"\n",
    "word.set()\n",
    "for i in word.set:\n",
    "    while i in left_hand_fingers:\n",
    "        if i in right_hand_fingers:\n",
    "            print(\"True\")\n",
    "        else:\n",
    "            print(\"False\")"
   ]
  },
  {
   "cell_type": "code",
   "execution_count": null,
   "id": "ea370952-0dfe-4cf8-9831-599a5a87f467",
   "metadata": {},
   "outputs": [],
   "source": [
    "left_hand_fingers = {\"q\", \"w\", \"e\", \"r\", \"t\",\"a\", \"s\", \"d\", \"f\", \"g\", \"x\", \"c\", \"v\", \"z\", \"b\" }\n",
    "right_hand_fingers = {\"y\", \"u\", \"i\", \"o\", \"p\", \"h\", \"j\", \"k\", \"l\", \"n\", \"m\"}\n",
    "word = \"tester\"\n",
    "word = set(word)\n",
    "for i in word:\n",
    "    if i in left_hand_fingers or i in right_hand_fingers:\n",
    "        print(i == False)\n",
    "    print(i == True)"
   ]
  },
  {
   "cell_type": "code",
   "execution_count": null,
   "id": "1a67fac8-e971-4808-a4aa-68394897a915",
   "metadata": {},
   "outputs": [],
   "source": []
  },
  {
   "cell_type": "code",
   "execution_count": null,
   "id": "c8c7a07a-c545-4a9f-89f2-6f03af27a407",
   "metadata": {},
   "outputs": [],
   "source": []
  },
  {
   "cell_type": "code",
   "execution_count": 1,
   "id": "7ce84f14-0404-4a4a-a72f-79681d7003c3",
   "metadata": {},
   "outputs": [
    {
     "name": "stdout",
     "output_type": "stream",
     "text": [
      "0\n"
     ]
    }
   ],
   "source": [
    "print(\"xyyzxyzxzxyy\".count('xyy', 2, 11))"
   ]
  },
  {
   "cell_type": "code",
   "execution_count": 2,
   "id": "3077c773-0ec2-4432-b583-9d1481724765",
   "metadata": {},
   "outputs": [
    {
     "name": "stdout",
     "output_type": "stream",
     "text": [
      "['ab', 'ef', 'gh', '']\n"
     ]
    }
   ],
   "source": [
    "print('abcdefcdghcd'.split('cd'))"
   ]
  },
  {
   "cell_type": "code",
   "execution_count": 8,
   "id": "51db8b8b-996a-4b74-8a70-d44bbcb013f7",
   "metadata": {},
   "outputs": [
    {
     "name": "stdout",
     "output_type": "stream",
     "text": [
      "clarusway\n"
     ]
    },
    {
     "ename": "AttributeError",
     "evalue": "'set' object has no attribute 'count'",
     "output_type": "error",
     "traceback": [
      "\u001b[1;31m---------------------------------------------------------------------------\u001b[0m",
      "\u001b[1;31mAttributeError\u001b[0m                            Traceback (most recent call last)",
      "\u001b[1;32m~\\AppData\\Local\\Temp/ipykernel_5060/1300382677.py\u001b[0m in \u001b[0;36m<module>\u001b[1;34m\u001b[0m\n\u001b[0;32m      5\u001b[0m \u001b[0mx\u001b[0m\u001b[1;33m=\u001b[0m\u001b[0mword\u001b[0m\u001b[1;33m.\u001b[0m\u001b[0mintersection\u001b[0m\u001b[1;33m(\u001b[0m\u001b[0mleft_hand_fingers\u001b[0m\u001b[1;33m)\u001b[0m\u001b[1;33m\u001b[0m\u001b[1;33m\u001b[0m\u001b[0m\n\u001b[0;32m      6\u001b[0m \u001b[0my\u001b[0m\u001b[1;33m=\u001b[0m\u001b[0mword\u001b[0m\u001b[1;33m.\u001b[0m\u001b[0mintersection\u001b[0m\u001b[1;33m(\u001b[0m\u001b[0mright_hand_fingers\u001b[0m\u001b[1;33m)\u001b[0m\u001b[1;33m\u001b[0m\u001b[1;33m\u001b[0m\u001b[0m\n\u001b[1;32m----> 7\u001b[1;33m \u001b[0mx\u001b[0m \u001b[1;33m=\u001b[0m \u001b[0mx\u001b[0m\u001b[1;33m.\u001b[0m\u001b[0mcount\u001b[0m\u001b[1;33m(\u001b[0m\u001b[1;33m)\u001b[0m\u001b[1;33m\u001b[0m\u001b[1;33m\u001b[0m\u001b[0m\n\u001b[0m\u001b[0;32m      8\u001b[0m \u001b[0my\u001b[0m \u001b[1;33m=\u001b[0m \u001b[0my\u001b[0m\u001b[1;33m.\u001b[0m\u001b[0mcount\u001b[0m\u001b[1;33m(\u001b[0m\u001b[1;33m)\u001b[0m\u001b[1;33m\u001b[0m\u001b[1;33m\u001b[0m\u001b[0m\n\u001b[0;32m      9\u001b[0m \u001b[1;32mif\u001b[0m \u001b[0mx\u001b[0m\u001b[1;33m!=\u001b[0m\u001b[1;36m0\u001b[0m \u001b[1;32mand\u001b[0m \u001b[0my\u001b[0m\u001b[1;33m!=\u001b[0m\u001b[1;36m0\u001b[0m\u001b[1;33m:\u001b[0m\u001b[1;33m\u001b[0m\u001b[1;33m\u001b[0m\u001b[0m\n",
      "\u001b[1;31mAttributeError\u001b[0m: 'set' object has no attribute 'count'"
     ]
    }
   ],
   "source": [
    "left_hand_fingers = {\"q\", \"w\", \"e\", \"r\", \"t\",\"a\", \"s\", \"d\", \"f\", \"g\", \"x\", \"c\", \"v\", \"z\", \"b\"}\n",
    "right_hand_fingers = {\"y\", \"u\", \"i\", \"o\", \"p\", \"h\", \"j\", \"k\", \"l\", \"n\", \"m\"}\n",
    "word = str(input())\n",
    "word = set(word)\n",
    "x=word.intersection(left_hand_fingers)\n",
    "y=word.intersection(right_hand_fingers)\n",
    "x = x.count()\n",
    "y = y.count()\n",
    "if x!=0 and y!=0:\n",
    "    print(True)\n",
    "else:\n",
    "    print(False)\n"
   ]
  },
  {
   "cell_type": "code",
   "execution_count": 2,
   "id": "1f7ab5b8",
   "metadata": {},
   "outputs": [
    {
     "name": "stdout",
     "output_type": "stream",
     "text": [
      "tester\n",
      "False\n"
     ]
    }
   ],
   "source": [
    "#Truue\n",
    "left_hand_fingers = {\"q\", \"w\", \"e\", \"r\", \"t\",\"a\", \"s\", \"d\", \"f\", \"g\", \"x\", \"c\", \"v\", \"z\", \"b\"}\n",
    "right_hand_fingers = {\"y\", \"u\", \"i\", \"o\", \"p\", \"h\", \"j\", \"k\", \"l\", \"n\", \"m\"}\n",
    "word = str(input())\n",
    "word = set(word)\n",
    "x=word.intersection(left_hand_fingers)\n",
    "y=word.intersection(right_hand_fingers)\n",
    "if len(x)!=0 and len(y)!=0:\n",
    "    print(True)\n",
    "else:\n",
    "    print(False)"
   ]
  },
  {
   "cell_type": "raw",
   "id": "abd146c7",
   "metadata": {},
   "source": []
  },
  {
   "cell_type": "code",
   "execution_count": null,
   "id": "b7c6c8a4",
   "metadata": {},
   "outputs": [],
   "source": []
  },
  {
   "cell_type": "raw",
   "id": "2c444535",
   "metadata": {},
   "source": []
  },
  {
   "cell_type": "code",
   "execution_count": null,
   "id": "a76c11c2",
   "metadata": {},
   "outputs": [],
   "source": []
  }
 ],
 "metadata": {
  "kernelspec": {
   "display_name": "Python 3 (ipykernel)",
   "language": "python",
   "name": "python3"
  },
  "language_info": {
   "codemirror_mode": {
    "name": "ipython",
    "version": 3
   },
   "file_extension": ".py",
   "mimetype": "text/x-python",
   "name": "python",
   "nbconvert_exporter": "python",
   "pygments_lexer": "ipython3",
   "version": "3.9.7"
  }
 },
 "nbformat": 4,
 "nbformat_minor": 5
}
